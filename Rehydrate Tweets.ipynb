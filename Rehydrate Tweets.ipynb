{
 "metadata": {
  "name": "",
  "signature": "sha256:161a3cd59cc7fff081803cb15cb6c2835ad429cd43e8245006b9d0816307ef4a"
 },
 "nbformat": 3,
 "nbformat_minor": 0,
 "worksheets": [
  {
   "cells": [
    {
     "cell_type": "markdown",
     "metadata": {},
     "source": [
      "Import python modules to connect to twitter, import CSV files, and connect to mongodb"
     ]
    },
    {
     "cell_type": "code",
     "collapsed": false,
     "input": [
      "import tweepy\n",
      "import csv\n",
      "%pylab inline\n",
      "from pymongo import MongoClient\n",
      "# Connect to mongodb\n",
      "client = MongoClient()"
     ],
     "language": "python",
     "metadata": {},
     "outputs": []
    },
    {
     "cell_type": "markdown",
     "metadata": {},
     "source": [
      "Store your Twitter API Keys"
     ]
    },
    {
     "cell_type": "code",
     "collapsed": false,
     "input": [
      "# Store your consumer keys and access tokens\n",
      "consumer_key = ''\n",
      "consumer_secret = ''\n",
      "\n",
      "access_token = ''\n",
      "access_secret= ''"
     ],
     "language": "python",
     "metadata": {},
     "outputs": []
    },
    {
     "cell_type": "markdown",
     "metadata": {},
     "source": [
      "Authentication with Twitter"
     ]
    },
    {
     "cell_type": "code",
     "collapsed": false,
     "input": [
      "auth = tweepy.OAuthHandler(consumer_key, consumer_secret)\n",
      "auth.set_access_token(access_token, access_secret)\n",
      "\n",
      "api = tweepy.API(auth)"
     ],
     "language": "python",
     "metadata": {},
     "outputs": []
    },
    {
     "cell_type": "markdown",
     "metadata": {},
     "source": [
      "Open file containing list of tweets"
     ]
    },
    {
     "cell_type": "code",
     "collapsed": false,
     "input": [
      "tf = open('/var/data/sanders-twitter-0.2/corpus.csv')"
     ],
     "language": "python",
     "metadata": {},
     "outputs": []
    },
    {
     "cell_type": "markdown",
     "metadata": {},
     "source": [
      "Read the file as a CSV using the CSV reader"
     ]
    },
    {
     "cell_type": "code",
     "collapsed": false,
     "input": [
      "tweets = csv.reader(tf)"
     ],
     "language": "python",
     "metadata": {},
     "outputs": []
    },
    {
     "cell_type": "markdown",
     "metadata": {},
     "source": [
      "Create an output file in your home directgory -- notice the 'w' is used for write mode"
     ]
    },
    {
     "cell_type": "code",
     "collapsed": false,
     "input": [
      "otf = open('~/full-corpus.csv', 'w')"
     ],
     "language": "python",
     "metadata": {},
     "outputs": []
    },
    {
     "cell_type": "code",
     "collapsed": false,
     "input": [
      "# Create a CSV writer for easier access to the file\n",
      "writer = csv.writer( otf, delimiter=',', quotechar='\"', escapechar='\\\\', quoting=csv.QUOTE_ALL )\n",
      "# write header row\n",
      "writer.writerow( ['Topic','Sentiment','TweetId','TweetDate','TweetText'] )"
     ],
     "language": "python",
     "metadata": {},
     "outputs": []
    },
    {
     "cell_type": "markdown",
     "metadata": {},
     "source": [
      "Your turn! Loop through the file retrieving each tweet using the tweet id as we go. Store the correct fields in the output CSV file.\n",
      "\n",
      "Keep track of the tweets that are no longer avaialble as you go."
     ]
    },
    {
     "cell_type": "code",
     "collapsed": false,
     "input": [
      "# Put your code here..."
     ],
     "language": "python",
     "metadata": {},
     "outputs": []
    },
    {
     "cell_type": "code",
     "collapsed": false,
     "input": [
      "# Close the output file\n",
      "otf.close()"
     ],
     "language": "python",
     "metadata": {},
     "outputs": []
    },
    {
     "cell_type": "markdown",
     "metadata": {},
     "source": [
      "Now modify the steps above to save the tweets directly to mongodb -- don't forget to save the 'Topic' and 'Sentiment' into the tweet!"
     ]
    }
   ],
   "metadata": {}
  }
 ]
}